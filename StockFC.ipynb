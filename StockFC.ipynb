{
  "nbformat": 4,
  "nbformat_minor": 0,
  "metadata": {
    "colab": {
      "provenance": [],
      "authorship_tag": "ABX9TyPIYiEQxFMiWJsgW8zzmxMl",
      "include_colab_link": true
    },
    "kernelspec": {
      "name": "python3",
      "display_name": "Python 3"
    },
    "language_info": {
      "name": "python"
    }
  },
  "cells": [
    {
      "cell_type": "markdown",
      "metadata": {
        "id": "view-in-github",
        "colab_type": "text"
      },
      "source": [
        "<a href=\"https://colab.research.google.com/github/N3XT14/mining-on-stock/blob/main/StockFC.ipynb\" target=\"_parent\"><img src=\"https://colab.research.google.com/assets/colab-badge.svg\" alt=\"Open In Colab\"/></a>"
      ]
    },
    {
      "cell_type": "code",
      "execution_count": null,
      "metadata": {
        "id": "zZ9u0gr4FezJ",
        "colab": {
          "base_uri": "https://localhost:8080/"
        },
        "outputId": "cc193b8b-c0c1-41dd-8282-3759a3490947"
      },
      "outputs": [
        {
          "output_type": "stream",
          "name": "stdout",
          "text": [
            "Mounted at /content/drive\n"
          ]
        }
      ],
      "source": [
        "import numpy as np\n",
        "import pandas as pd\n",
        "from google.colab import drive\n",
        "drive.mount('/content/drive')"
      ]
    },
    {
      "cell_type": "code",
      "source": [
        "import os\n",
        "import pickle"
      ],
      "metadata": {
        "id": "3w6Ras9Jf-2X"
      },
      "execution_count": null,
      "outputs": []
    },
    {
      "cell_type": "code",
      "source": [
        "os.chdir(\"/content/drive/My Drive/mining-on-stock\")"
      ],
      "metadata": {
        "id": "ex2UAnRlf-ud"
      },
      "execution_count": null,
      "outputs": []
    },
    {
      "cell_type": "code",
      "source": [
        "!ls"
      ],
      "metadata": {
        "colab": {
          "base_uri": "https://localhost:8080/"
        },
        "id": "QQ5njiSTgPjW",
        "outputId": "a2d57fd0-3ecf-4f65-bfd4-080b2462f154"
      },
      "execution_count": null,
      "outputs": [
        {
          "output_type": "stream",
          "name": "stdout",
          "text": [
            " LICENSE    'StockFC (1).ipynb'   testing_set1.pkl\n",
            " README.md   StockFC.ipynb\t  training_set.pkl\n"
          ]
        }
      ]
    },
    {
      "cell_type": "code",
      "source": [
        "with open('training_set.pkl', 'rb') as train_file:\n",
        "  train_data = pickle.load(train_file)\n",
        "\n",
        "#We can also use pd.read_pickle fuction"
      ],
      "metadata": {
        "id": "Rx0yFSNDgQGy"
      },
      "execution_count": null,
      "outputs": []
    },
    {
      "cell_type": "code",
      "source": [
        "print(\"Data Storage Type of Complete data => \", type(train_data), '\\n')\n",
        "print(\"Total Number of Records => \", len(train_data), '\\n')\n",
        "print(\"Data Type of each record => \", type(train_data[0]), '\\n')\n",
        "print(\"Total Entries in each record => \", len(train_data[0]), '\\n')\n",
        "print(\"Head of data => \\n\", train_data[0].head(), '\\n')\n",
        "print(\"Basic Stats about data\", train_data[0].describe(), '\\n')"
      ],
      "metadata": {
        "colab": {
          "base_uri": "https://localhost:8080/"
        },
        "id": "f52YN5VWiGTq",
        "outputId": "137274a1-6b55-4e52-a54b-5de7ac73b67b"
      },
      "execution_count": null,
      "outputs": [
        {
          "output_type": "stream",
          "name": "stdout",
          "text": [
            "Data Storage Type of Complete data =>  <class 'list'> \n",
            "\n",
            "Total Number of Records =>  2000 \n",
            "\n",
            "Data Type of each record =>  <class 'pandas.core.frame.DataFrame'> \n",
            "\n",
            "Total Entries in each record 2202 \n",
            "\n",
            "Head of data => \n",
            "        Open      High       Low     Close    Volume\n",
            "0  0.672106  0.679902  0.669265  0.671966  0.336899\n",
            "1  0.672106  0.674597  0.670546  0.672106  0.208023\n",
            "2  0.672106  0.678621  0.671827  0.676282  0.142405\n",
            "3  0.676338  0.677340  0.672384  0.673498  0.146400\n",
            "4  0.673442  0.676004  0.672997  0.675892  0.116960 \n",
            "\n",
            "Basic Stats about data               Open         High          Low        Close       Volume\n",
            "count  2202.000000  2202.000000  2202.000000  2202.000000  2202.000000\n",
            "mean      0.798608     0.801351     0.795719     0.798501     0.265201\n",
            "std       0.084629     0.084606     0.084659     0.084655     0.168493\n",
            "min       0.629894     0.635960     0.626330     0.629337     0.000000\n",
            "25%       0.732375     0.735062     0.729750     0.732040     0.149827\n",
            "50%       0.790389     0.793465     0.786323     0.790305     0.217470\n",
            "75%       0.862547     0.865888     0.858760     0.862324     0.328495\n",
            "max       0.998719     1.000000     0.997132     0.998663     2.000000 \n",
            "\n"
          ]
        }
      ]
    },
    {
      "cell_type": "code",
      "source": [],
      "metadata": {
        "id": "CRvJ4BtIiv0S"
      },
      "execution_count": null,
      "outputs": []
    }
  ]
}